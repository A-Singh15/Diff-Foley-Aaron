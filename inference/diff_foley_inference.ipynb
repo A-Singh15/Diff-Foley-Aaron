{
 "cells": [
  {
   "cell_type": "markdown",
   "metadata": {},
   "source": [
    "## Diff-Foley: Inference Pipeline."
   ]
  },
  {
   "cell_type": "code",
   "execution_count": null,
   "metadata": {},
   "outputs": [],
   "source": [
    "from omegaconf import OmegaConf\n",
    "import os\n",
    "import torch\n",
    "import numpy as np\n",
    "import librosa\n",
    "import soundfile as sf\n",
    "from tqdm import tqdm\n",
    "\n",
    "import sys\n",
    "sys.path.append(\"/\".join(os.getcwd().split(\"/\")[:-1]))\n",
    "from diff_foley.util import instantiate_from_config"
   ]
  },
  {
   "cell_type": "markdown",
   "metadata": {},
   "source": [
    "### 1. Loading Stage1 CAVP Model:"
   ]
  },
  {
   "cell_type": "code",
   "execution_count": 3,
   "metadata": {},
   "outputs": [
    {
     "name": "stdout",
     "output_type": "stream",
     "text": [
      "Initalize Stage1 CAVP Model\n",
      "Loading Stage1 CAVP Model from: /public/MARS/Users/lsm/lsm_project/lsm_project/open_clip-main/src/logs/2023_04_07-06_04_46-audio_node8_baseline_8e-4_warmup200_wds_vgg+audioset_cnn14_pretrained_clip_num3_shift_lb8_intra_loss_w1/checkpoints/epoch_66.pt\n",
      "Restored from /public/MARS/Users/lsm/lsm_project/lsm_project/open_clip-main/src/logs/2023_04_07-06_04_46-audio_node8_baseline_8e-4_warmup200_wds_vgg+audioset_cnn14_pretrained_clip_num3_shift_lb8_intra_loss_w1/checkpoints/epoch_66.pt with 0 missing and 0 unexpected keys\n"
     ]
    }
   ],
   "source": [
    "import os\n",
    "from demo_util import Extract_CAVP_Features \n",
    "\n",
    "# Set Device:\n",
    "os.environ[\"CUDA_VISIBLE_DEVICES\"] = \"0\"\n",
    "device = torch.device(\"cuda\")\n",
    "# Default Setting:\n",
    "\n",
    "fps = 4                                                     #  CAVP default FPS=4, Don't change it.\n",
    "batch_size = 8    \n",
    "cavp_config_path = \"./config/Stage1_CAVP.yaml\"              #  CAVP Config\n",
    "cavp_ckpt_path = \"./diff_foley_ckpt/cavp_epoch66.ckpt\"      #  CAVP Ckpt\n",
    "\n",
    "\n",
    "# Initalize CAVP Model:\n",
    "extract_cavp = Extract_CAVP_Features(fps=fps, batch_size=batch_size, device=device, config_path=cavp_config_path, ckpt_path=cavp_ckpt_path)"
   ]
  },
  {
   "cell_type": "markdown",
   "metadata": {},
   "source": [
    "### 2. Loading Stage2 LDM Model:"
   ]
  },
  {
   "cell_type": "code",
   "execution_count": 6,
   "metadata": {},
   "outputs": [],
   "source": [
    "def load_model_from_config(config, ckpt, verbose=False):\n",
    "    print(f\"Loading model from {ckpt}\")\n",
    "    pl_sd = torch.load(ckpt, map_location=\"cpu\")\n",
    "    if \"global_step\" in pl_sd:\n",
    "        print(f\"Global Step: {pl_sd['global_step']}\")\n",
    "    sd = pl_sd[\"state_dict\"]\n",
    "    model = instantiate_from_config(config.model)\n",
    "    m, u = model.load_state_dict(sd, strict=False)\n",
    "    if len(m) > 0 and verbose:\n",
    "        print(\"missing keys:\")\n",
    "        print(m)\n",
    "    if len(u) > 0 and verbose:\n",
    "        print(\"unexpected keys:\")\n",
    "        print(u)\n",
    "    model.cuda()\n",
    "    model.eval()\n",
    "    return model"
   ]
  },
  {
   "cell_type": "code",
   "execution_count": 7,
   "metadata": {},
   "outputs": [
    {
     "name": "stdout",
     "output_type": "stream",
     "text": [
      "Loading model from /public/MARS/Users/lsm/lsm_project/lsm_project/audio_diffusion/logs/2023-04-17T14-54-39_chan320_att124_mult1244_sd_pretrained_vggsound_stage1_contrast_66epoch_pretrained_revise/checkpoints/epoch=240.ckpt\n",
      "Global Step: 24400\n",
      "LatentDiffusion: Running in eps-prediction mode\n",
      "DiffusionWrapper has 859.52 M params.\n",
      "making attention of type 'vanilla' with 512 in_channels\n",
      "Working with z of shape (1, 4, 32, 32) = 4096 dimensions.\n",
      "making attention of type 'vanilla' with 512 in_channels\n"
     ]
    }
   ],
   "source": [
    "# LDM Config:\n",
    "ldm_config_path = \"./config/Stage2_LDM.yaml\"\n",
    "ldm_ckpt_path = \"./diff_foley_ckpt/ldm_epoch240.ckpt\"\n",
    "config = OmegaConf.load(ldm_config_path)\n",
    "\n",
    "# Loading LDM:\n",
    "latent_diffusion_model = load_model_from_config(config, ldm_ckpt_path)"
   ]
  },
  {
   "cell_type": "markdown",
   "metadata": {},
   "source": [
    "### 3. Data Preprocess"
   ]
  },
  {
   "cell_type": "code",
   "execution_count": 20,
   "metadata": {},
   "outputs": [
    {
     "name": "stdout",
     "output_type": "stream",
     "text": [
      "video_path ./demo_videos/car.mp4\n",
      "truncate second:  8.2\n"
     ]
    },
    {
     "name": "stderr",
     "output_type": "stream",
     "text": [
      "Processing Frames: 34 Total: 33.0: : 0it [00:00, ?it/s]\n"
     ]
    }
   ],
   "source": [
    "\n",
    "# Sample1:\n",
    "video_path = \"./demo_videos/gun.mp4\"\n",
    "save_path = \"./generate_samples/gun\"\n",
    "tmp_path = \"./generate_samples/temp_folder\" \n",
    "\n",
    "## Sample2:\n",
    "# video_path = \"./demo_videos/drum.mp4\"\n",
    "# save_path = \"./generate_samples/drum\"\n",
    "# tmp_path = \"./generate_samples/temp_folder\" \n",
    "\n",
    "## Sample3:\n",
    "# video_path = \"./demo_videos/car.mp4\"\n",
    "# save_path = \"./generate_samples/car\"\n",
    "# tmp_path = \"./generate_samples/temp_folder\" \n",
    "\n",
    "\n",
    "start_second = 0              # Video start second\n",
    "truncate_second = 8.2         # Video end = start_second + truncate_second\n",
    "\n",
    "# Extract Video CAVP Features & New Video Path:\n",
    "cavp_feats, new_video_path = extract_cavp(video_path, start_second, truncate_second, tmp_path=tmp_path)\n"
   ]
  },
  {
   "cell_type": "code",
   "execution_count": 21,
   "metadata": {},
   "outputs": [],
   "source": [
    "def seed_everything(seed):\n",
    "    import random, os\n",
    "    import numpy as np\n",
    "    import torch\n",
    "    random.seed(seed)\n",
    "    os.environ['PYTHONHASHSEED'] = str(seed)\n",
    "    np.random.seed(seed)\n",
    "    torch.manual_seed(seed)\n",
    "    torch.cuda.manual_seed(seed)\n",
    "    torch.backends.cudnn.deterministic = True\n",
    "    torch.backends.cudnn.benchmark = True\n",
    "seed_everything(21)"
   ]
  },
  {
   "cell_type": "markdown",
   "metadata": {},
   "source": [
    "### 4. Diff-Foley Generation:"
   ]
  },
  {
   "cell_type": "markdown",
   "metadata": {},
   "source": [
    "#### 4.(a) Double Guidance Load:"
   ]
  },
  {
   "cell_type": "code",
   "execution_count": 22,
   "metadata": {},
   "outputs": [
    {
     "name": "stdout",
     "output_type": "stream",
     "text": [
      "Loading model from /public/MARS/Users/lsm/lsm_project/lsm_project/audio_diffusion/logs/2023-04-22T07-45-22_vggsound_alignment_classifier_stage1_vgg_as_contrast_feat_w1_66epoch_medium_2resblock_chan128_1e-5/checkpoints/epoch=000144.ckpt\n",
      "Global Step: 49880\n"
     ]
    }
   ],
   "source": [
    "# Whether use Double Guidance:\n",
    "use_double_guidance = True\n",
    "\n",
    "if use_double_guidance:\n",
    "    classifier_config_path = \"./config/Double_Guidance_Classifier.yaml\"\n",
    "    classifier_ckpt_path = \"./diff_foley_ckpt/double_guidance_classifier.ckpt\"\n",
    "    classifier_config = OmegaConf.load(classifier_config_path)\n",
    "    classifier = load_model_from_config(classifier_config, classifier_ckpt_path)\n",
    "    "
   ]
  },
  {
   "cell_type": "code",
   "execution_count": 23,
   "metadata": {},
   "outputs": [
    {
     "name": "stdout",
     "output_type": "stream",
     "text": [
      "torch.Size([4, 33, 512])\n"
     ]
    },
    {
     "name": "stderr",
     "output_type": "stream",
     "text": [
      "Window::   0%|          | 0/1 [00:00<?, ?it/s]"
     ]
    },
    {
     "name": "stdout",
     "output_type": "stream",
     "text": [
      "Using Double Guidance: True\n"
     ]
    },
    {
     "name": "stderr",
     "output_type": "stream",
     "text": [
      "current samples:: 100%|██████████| 4/4 [00:24<00:00,  6.10s/it]\n",
      "Window:: 100%|██████████| 1/1 [00:29<00:00, 29.98s/it]\n"
     ]
    }
   ],
   "source": [
    "from demo_util import inverse_op\n",
    "\n",
    "sample_num = 4\n",
    "\n",
    "# Inference Param:\n",
    "cfg_scale = 4.5      # Classifier-Free Guidance Scale\n",
    "cg_scale = 50        # Classifier Guidance Scale\n",
    "\n",
    "\n",
    "steps = 25                # Inference Steps\n",
    "\n",
    "sampler = \"DPM_Solver\"    # DPM-Solver Sampler\n",
    "# sampler = \"DDIM\"        # DDIM Sampler\n",
    "# sampler = \"PLMS\"        # PLMS Sampler\n",
    "\n",
    "\n",
    "save_path = save_path + \"_CFG{}_CG{}_{}_{}_useDG_{}\".format(cfg_scale, cg_scale, sampler, steps, use_double_guidance)\n",
    "os.makedirs(save_path, exist_ok=True)\n",
    "\n",
    "# Video CAVP Features:\n",
    "video_feat = torch.from_numpy(cavp_feats).unsqueeze(0).repeat(sample_num, 1, 1).to(device)\n",
    "print(video_feat.shape)\n",
    "\n",
    "\n",
    "# Truncate the Video Cond:\n",
    "feat_len = video_feat.shape[1]\n",
    "truncate_len = 32\n",
    "window_num = feat_len // truncate_len\n",
    "\n",
    "\n",
    "audio_list = []     # [sample_list1, sample_list2, sample_list3 ....]\n",
    "for i in tqdm(range(window_num), desc=\"Window:\"):\n",
    "    start, end = i * truncate_len, (i+1) * truncate_len\n",
    "    \n",
    "    # 1). Get Video Condition Embed:\n",
    "    embed_cond_feat = latent_diffusion_model.get_learned_conditioning(video_feat[:, start:end])     \n",
    "\n",
    "    # 2). CFG unconditional Embedding:\n",
    "    uncond_cond = torch.zeros(embed_cond_feat.shape).to(device)\n",
    "    \n",
    "    # 3). Diffusion Sampling:\n",
    "    print(\"Using Double Guidance: {}\".format(use_double_guidance))\n",
    "    if use_double_guidance:\n",
    "        audio_samples, _ = latent_diffusion_model.sample_log_with_classifier_diff_sampler(embed_cond_feat, origin_cond=video_feat, batch_size=video_feat.shape[0], sampler_name=sampler, ddim_steps=steps, unconditional_guidance_scale=cfg_scale,unconditional_conditioning=uncond_cond,classifier=classifier, classifier_guide_scale=cg_scale)  # Double Guidance\n",
    "    else:\n",
    "        audio_samples, _ = latent_diffusion_model.sample_log_diff_sampler(embed_cond_feat, batch_size=sample_num, sampler_name=sampler, ddim_steps=steps, unconditional_guidance_scale=cfg_scale,unconditional_conditioning=uncond_cond)           #  Classifier-Free Guidance\n",
    " \n",
    "    # 4). Decode Latent:\n",
    "    audio_samples = latent_diffusion_model.decode_first_stage(audio_samples)                     \n",
    "    audio_samples = audio_samples[:, 0, :, :].detach().cpu().numpy()                               \n",
    "\n",
    "    # 5). Spectrogram -> Audio:  (Griffin-Lim Algorithm)\n",
    "    sample_list = []        #    [sample1, sample2, ....]\n",
    "    for k in tqdm(range(audio_samples.shape[0]), desc=\"current samples:\"):\n",
    "        sample = inverse_op(audio_samples[k])\n",
    "        sample_list.append(sample)\n",
    "    audio_list.append(sample_list)"
   ]
  },
  {
   "cell_type": "code",
   "execution_count": 24,
   "metadata": {},
   "outputs": [
    {
     "name": "stdout",
     "output_type": "stream",
     "text": [
      "(130816,)\n",
      "(130816,)\n",
      "(130816,)\n",
      "(130816,)\n",
      "Gen Success !!\n"
     ]
    }
   ],
   "source": [
    "# Save Samples:\n",
    "path_list = []\n",
    "for i in range(sample_num):      # sample_num\n",
    "    current_audio_list = []\n",
    "    for k in range(window_num):\n",
    "        current_audio_list.append(audio_list[k][i])\n",
    "    current_audio = np.concatenate(current_audio_list,0)\n",
    "    print(current_audio.shape)\n",
    "    sf.write(os.path.join(save_path, \"sample_{}_diff.wav\").format(i), current_audio, 16000)\n",
    "    path_list.append(os.path.join(save_path, \"sample_{}_diff.wav\").format(i))\n",
    "print(\"Gen Success !!\")"
   ]
  },
  {
   "cell_type": "code",
   "execution_count": 25,
   "metadata": {},
   "outputs": [
    {
     "name": "stderr",
     "output_type": "stream",
     "text": [
      "ffmpeg version 4.3.1 Copyright (c) 2000-2020 the FFmpeg developers\n",
      "  built with gcc 9.3.0 (crosstool-NG 1.24.0.133_b0863d8_dirty)\n",
      "  configuration: --prefix=/home/lsm/anaconda3/envs/specvqgan --cc=/home/conda/feedstock_root/build_artifacts/ffmpeg_1609680890771/_build_env/bin/x86_64-conda-linux-gnu-cc --disable-doc --disable-openssl --enable-avresample --enable-gnutls --enable-gpl --enable-hardcoded-tables --enable-libfreetype --enable-libopenh264 --enable-libx264 --enable-pic --enable-pthreads --enable-shared --enable-static --enable-version3 --enable-zlib --enable-libmp3lame --pkg-config=/home/conda/feedstock_root/build_artifacts/ffmpeg_1609680890771/_build_env/bin/pkg-config\n",
      "  libavutil      56. 51.100 / 56. 51.100\n",
      "  libavcodec     58. 91.100 / 58. 91.100\n",
      "  libavformat    58. 45.100 / 58. 45.100\n",
      "  libavdevice    58. 10.100 / 58. 10.100\n",
      "  libavfilter     7. 85.100 /  7. 85.100\n",
      "  libavresample   4.  0.  0 /  4.  0.  0\n",
      "  libswscale      5.  7.100 /  5.  7.100\n",
      "  libswresample   3.  7.100 /  3.  7.100\n",
      "  libpostproc    55.  7.100 / 55.  7.100\n",
      "Input #0, mov,mp4,m4a,3gp,3g2,mj2, from './generate_samples/temp_folder/car_new_fps_21.5_truncate_0_8.2.mp4':\n",
      "  Metadata:\n",
      "    major_brand     : isom\n",
      "    minor_version   : 512\n",
      "    compatible_brands: isomiso2avc1mp41\n",
      "    encoder         : Lavf58.45.100\n",
      "  Duration: 00:00:08.23, start: 0.000000, bitrate: 513 kb/s\n",
      "    Stream #0:0(und): Video: h264 (High) (avc1 / 0x31637661), yuv420p, 640x360 [SAR 1:1 DAR 16:9], 510 kb/s, 21.50 fps, 21.50 tbr, 11008 tbn, 43 tbc (default)\n",
      "    Metadata:\n",
      "      handler_name    : VideoHandler\n",
      "Guessed Channel Layout for Input Stream #1.0 : mono\n",
      "Input #1, wav, from './generate_samples/car_CFG4.5_CG50_DPM_Solver_25_useDG_True/sample_0_diff.wav':\n",
      "  Duration: 00:00:08.18, bitrate: 256 kb/s\n",
      "    Stream #1:0: Audio: pcm_s16le ([1][0][0][0] / 0x0001), 16000 Hz, mono, s16, 256 kb/s\n",
      "Stream mapping:\n",
      "  Stream #0:0 -> #0:0 (copy)\n",
      "  Stream #1:0 -> #0:1 (pcm_s16le (native) -> mp3 (libmp3lame))\n",
      "Press [q] to stop, [?] for help\n",
      "Output #0, mp4, to './generate_samples/car_CFG4.5_CG50_DPM_Solver_25_useDG_True/output_0.mp4':\n",
      "  Metadata:\n",
      "    major_brand     : isom\n",
      "    minor_version   : 512\n",
      "    compatible_brands: isomiso2avc1mp41\n",
      "    encoder         : Lavf58.45.100\n",
      "    Stream #0:0(und): Video: h264 (High) (avc1 / 0x31637661), yuv420p, 640x360 [SAR 1:1 DAR 16:9], q=2-31, 510 kb/s, 21.50 fps, 21.50 tbr, 11008 tbn, 11008 tbc (default)\n",
      "    Metadata:\n",
      "      handler_name    : VideoHandler\n",
      "    Stream #0:1: Audio: mp3 (libmp3lame) (mp4a / 0x6134706D), 16000 Hz, mono, s16p\n",
      "    Metadata:\n",
      "      encoder         : Lavc58.91.100 libmp3lame\n",
      "frame=  177 fps=0.0 q=-1.0 Lsize=     543kB time=00:00:08.21 bitrate= 541.9kbits/s speed= 102x    \n",
      "video:513kB audio:24kB subtitle:0kB other streams:0kB global headers:0kB muxing overhead: 1.087111%\n",
      "ffmpeg version 4.3.1 Copyright (c) 2000-2020 the FFmpeg developers\n",
      "  built with gcc 9.3.0 (crosstool-NG 1.24.0.133_b0863d8_dirty)\n",
      "  configuration: --prefix=/home/lsm/anaconda3/envs/specvqgan --cc=/home/conda/feedstock_root/build_artifacts/ffmpeg_1609680890771/_build_env/bin/x86_64-conda-linux-gnu-cc --disable-doc --disable-openssl --enable-avresample --enable-gnutls --enable-gpl --enable-hardcoded-tables --enable-libfreetype --enable-libopenh264 --enable-libx264 --enable-pic --enable-pthreads --enable-shared --enable-static --enable-version3 --enable-zlib --enable-libmp3lame --pkg-config=/home/conda/feedstock_root/build_artifacts/ffmpeg_1609680890771/_build_env/bin/pkg-config\n",
      "  libavutil      56. 51.100 / 56. 51.100\n",
      "  libavcodec     58. 91.100 / 58. 91.100\n",
      "  libavformat    58. 45.100 / 58. 45.100\n",
      "  libavdevice    58. 10.100 / 58. 10.100\n",
      "  libavfilter     7. 85.100 /  7. 85.100\n",
      "  libavresample   4.  0.  0 /  4.  0.  0\n",
      "  libswscale      5.  7.100 /  5.  7.100\n",
      "  libswresample   3.  7.100 /  3.  7.100\n",
      "  libpostproc    55.  7.100 / 55.  7.100\n",
      "Input #0, mov,mp4,m4a,3gp,3g2,mj2, from './generate_samples/temp_folder/car_new_fps_21.5_truncate_0_8.2.mp4':\n",
      "  Metadata:\n",
      "    major_brand     : isom\n",
      "    minor_version   : 512\n",
      "    compatible_brands: isomiso2avc1mp41\n",
      "    encoder         : Lavf58.45.100\n",
      "  Duration: 00:00:08.23, start: 0.000000, bitrate: 513 kb/s\n",
      "    Stream #0:0(und): Video: h264 (High) (avc1 / 0x31637661), yuv420p, 640x360 [SAR 1:1 DAR 16:9], 510 kb/s, 21.50 fps, 21.50 tbr, 11008 tbn, 43 tbc (default)\n",
      "    Metadata:\n",
      "      handler_name    : VideoHandler\n",
      "Guessed Channel Layout for Input Stream #1.0 : mono\n",
      "Input #1, wav, from './generate_samples/car_CFG4.5_CG50_DPM_Solver_25_useDG_True/sample_1_diff.wav':\n",
      "  Duration: 00:00:08.18, bitrate: 256 kb/s\n",
      "    Stream #1:0: Audio: pcm_s16le ([1][0][0][0] / 0x0001), 16000 Hz, mono, s16, 256 kb/s\n",
      "Stream mapping:\n",
      "  Stream #0:0 -> #0:0 (copy)\n",
      "  Stream #1:0 -> #0:1 (pcm_s16le (native) -> mp3 (libmp3lame))\n",
      "Press [q] to stop, [?] for help\n",
      "Output #0, mp4, to './generate_samples/car_CFG4.5_CG50_DPM_Solver_25_useDG_True/output_1.mp4':\n",
      "  Metadata:\n",
      "    major_brand     : isom\n",
      "    minor_version   : 512\n",
      "    compatible_brands: isomiso2avc1mp41\n",
      "    encoder         : Lavf58.45.100\n",
      "    Stream #0:0(und): Video: h264 (High) (avc1 / 0x31637661), yuv420p, 640x360 [SAR 1:1 DAR 16:9], q=2-31, 510 kb/s, 21.50 fps, 21.50 tbr, 11008 tbn, 11008 tbc (default)\n",
      "    Metadata:\n",
      "      handler_name    : VideoHandler\n",
      "    Stream #0:1: Audio: mp3 (libmp3lame) (mp4a / 0x6134706D), 16000 Hz, mono, s16p\n",
      "    Metadata:\n",
      "      encoder         : Lavc58.91.100 libmp3lame\n",
      "frame=  177 fps=0.0 q=-1.0 Lsize=     543kB time=00:00:08.21 bitrate= 541.9kbits/s speed=97.7x    \n",
      "video:513kB audio:24kB subtitle:0kB other streams:0kB global headers:0kB muxing overhead: 1.087111%\n",
      "ffmpeg version 4.3.1 Copyright (c) 2000-2020 the FFmpeg developers\n",
      "  built with gcc 9.3.0 (crosstool-NG 1.24.0.133_b0863d8_dirty)\n",
      "  configuration: --prefix=/home/lsm/anaconda3/envs/specvqgan --cc=/home/conda/feedstock_root/build_artifacts/ffmpeg_1609680890771/_build_env/bin/x86_64-conda-linux-gnu-cc --disable-doc --disable-openssl --enable-avresample --enable-gnutls --enable-gpl --enable-hardcoded-tables --enable-libfreetype --enable-libopenh264 --enable-libx264 --enable-pic --enable-pthreads --enable-shared --enable-static --enable-version3 --enable-zlib --enable-libmp3lame --pkg-config=/home/conda/feedstock_root/build_artifacts/ffmpeg_1609680890771/_build_env/bin/pkg-config\n",
      "  libavutil      56. 51.100 / 56. 51.100\n",
      "  libavcodec     58. 91.100 / 58. 91.100\n",
      "  libavformat    58. 45.100 / 58. 45.100\n",
      "  libavdevice    58. 10.100 / 58. 10.100\n",
      "  libavfilter     7. 85.100 /  7. 85.100\n",
      "  libavresample   4.  0.  0 /  4.  0.  0\n",
      "  libswscale      5.  7.100 /  5.  7.100\n",
      "  libswresample   3.  7.100 /  3.  7.100\n",
      "  libpostproc    55.  7.100 / 55.  7.100\n",
      "Input #0, mov,mp4,m4a,3gp,3g2,mj2, from './generate_samples/temp_folder/car_new_fps_21.5_truncate_0_8.2.mp4':\n",
      "  Metadata:\n",
      "    major_brand     : isom\n",
      "    minor_version   : 512\n",
      "    compatible_brands: isomiso2avc1mp41\n",
      "    encoder         : Lavf58.45.100\n",
      "  Duration: 00:00:08.23, start: 0.000000, bitrate: 513 kb/s\n",
      "    Stream #0:0(und): Video: h264 (High) (avc1 / 0x31637661), yuv420p, 640x360 [SAR 1:1 DAR 16:9], 510 kb/s, 21.50 fps, 21.50 tbr, 11008 tbn, 43 tbc (default)\n",
      "    Metadata:\n",
      "      handler_name    : VideoHandler\n",
      "Guessed Channel Layout for Input Stream #1.0 : mono\n",
      "Input #1, wav, from './generate_samples/car_CFG4.5_CG50_DPM_Solver_25_useDG_True/sample_2_diff.wav':\n",
      "  Duration: 00:00:08.18, bitrate: 256 kb/s\n",
      "    Stream #1:0: Audio: pcm_s16le ([1][0][0][0] / 0x0001), 16000 Hz, mono, s16, 256 kb/s\n",
      "Stream mapping:\n",
      "  Stream #0:0 -> #0:0 (copy)\n",
      "  Stream #1:0 -> #0:1 (pcm_s16le (native) -> mp3 (libmp3lame))\n",
      "Press [q] to stop, [?] for help\n",
      "Output #0, mp4, to './generate_samples/car_CFG4.5_CG50_DPM_Solver_25_useDG_True/output_2.mp4':\n",
      "  Metadata:\n",
      "    major_brand     : isom\n",
      "    minor_version   : 512\n",
      "    compatible_brands: isomiso2avc1mp41\n",
      "    encoder         : Lavf58.45.100\n",
      "    Stream #0:0(und): Video: h264 (High) (avc1 / 0x31637661), yuv420p, 640x360 [SAR 1:1 DAR 16:9], q=2-31, 510 kb/s, 21.50 fps, 21.50 tbr, 11008 tbn, 11008 tbc (default)\n",
      "    Metadata:\n",
      "      handler_name    : VideoHandler\n",
      "    Stream #0:1: Audio: mp3 (libmp3lame) (mp4a / 0x6134706D), 16000 Hz, mono, s16p\n",
      "    Metadata:\n",
      "      encoder         : Lavc58.91.100 libmp3lame\n",
      "frame=  177 fps=0.0 q=-1.0 Lsize=     543kB time=00:00:08.21 bitrate= 541.9kbits/s speed=88.8x    \n",
      "video:513kB audio:24kB subtitle:0kB other streams:0kB global headers:0kB muxing overhead: 1.087111%\n"
     ]
    },
    {
     "name": "stdout",
     "output_type": "stream",
     "text": [
      "Gen Success !!\n"
     ]
    },
    {
     "name": "stderr",
     "output_type": "stream",
     "text": [
      "ffmpeg version 4.3.1 Copyright (c) 2000-2020 the FFmpeg developers\n",
      "  built with gcc 9.3.0 (crosstool-NG 1.24.0.133_b0863d8_dirty)\n",
      "  configuration: --prefix=/home/lsm/anaconda3/envs/specvqgan --cc=/home/conda/feedstock_root/build_artifacts/ffmpeg_1609680890771/_build_env/bin/x86_64-conda-linux-gnu-cc --disable-doc --disable-openssl --enable-avresample --enable-gnutls --enable-gpl --enable-hardcoded-tables --enable-libfreetype --enable-libopenh264 --enable-libx264 --enable-pic --enable-pthreads --enable-shared --enable-static --enable-version3 --enable-zlib --enable-libmp3lame --pkg-config=/home/conda/feedstock_root/build_artifacts/ffmpeg_1609680890771/_build_env/bin/pkg-config\n",
      "  libavutil      56. 51.100 / 56. 51.100\n",
      "  libavcodec     58. 91.100 / 58. 91.100\n",
      "  libavformat    58. 45.100 / 58. 45.100\n",
      "  libavdevice    58. 10.100 / 58. 10.100\n",
      "  libavfilter     7. 85.100 /  7. 85.100\n",
      "  libavresample   4.  0.  0 /  4.  0.  0\n",
      "  libswscale      5.  7.100 /  5.  7.100\n",
      "  libswresample   3.  7.100 /  3.  7.100\n",
      "  libpostproc    55.  7.100 / 55.  7.100\n",
      "Input #0, mov,mp4,m4a,3gp,3g2,mj2, from './generate_samples/temp_folder/car_new_fps_21.5_truncate_0_8.2.mp4':\n",
      "  Metadata:\n",
      "    major_brand     : isom\n",
      "    minor_version   : 512\n",
      "    compatible_brands: isomiso2avc1mp41\n",
      "    encoder         : Lavf58.45.100\n",
      "  Duration: 00:00:08.23, start: 0.000000, bitrate: 513 kb/s\n",
      "    Stream #0:0(und): Video: h264 (High) (avc1 / 0x31637661), yuv420p, 640x360 [SAR 1:1 DAR 16:9], 510 kb/s, 21.50 fps, 21.50 tbr, 11008 tbn, 43 tbc (default)\n",
      "    Metadata:\n",
      "      handler_name    : VideoHandler\n",
      "Guessed Channel Layout for Input Stream #1.0 : mono\n",
      "Input #1, wav, from './generate_samples/car_CFG4.5_CG50_DPM_Solver_25_useDG_True/sample_3_diff.wav':\n",
      "  Duration: 00:00:08.18, bitrate: 256 kb/s\n",
      "    Stream #1:0: Audio: pcm_s16le ([1][0][0][0] / 0x0001), 16000 Hz, mono, s16, 256 kb/s\n",
      "Stream mapping:\n",
      "  Stream #0:0 -> #0:0 (copy)\n",
      "  Stream #1:0 -> #0:1 (pcm_s16le (native) -> mp3 (libmp3lame))\n",
      "Press [q] to stop, [?] for help\n",
      "Output #0, mp4, to './generate_samples/car_CFG4.5_CG50_DPM_Solver_25_useDG_True/output_3.mp4':\n",
      "  Metadata:\n",
      "    major_brand     : isom\n",
      "    minor_version   : 512\n",
      "    compatible_brands: isomiso2avc1mp41\n",
      "    encoder         : Lavf58.45.100\n",
      "    Stream #0:0(und): Video: h264 (High) (avc1 / 0x31637661), yuv420p, 640x360 [SAR 1:1 DAR 16:9], q=2-31, 510 kb/s, 21.50 fps, 21.50 tbr, 11008 tbn, 11008 tbc (default)\n",
      "    Metadata:\n",
      "      handler_name    : VideoHandler\n",
      "    Stream #0:1: Audio: mp3 (libmp3lame) (mp4a / 0x6134706D), 16000 Hz, mono, s16p\n",
      "    Metadata:\n",
      "      encoder         : Lavc58.91.100 libmp3lame\n",
      "frame=  177 fps=0.0 q=-1.0 Lsize=     543kB time=00:00:08.21 bitrate= 541.9kbits/s speed= 114x    \n",
      "video:513kB audio:24kB subtitle:0kB other streams:0kB global headers:0kB muxing overhead: 1.087111%\n"
     ]
    }
   ],
   "source": [
    "# Concat The Video and Sound:\n",
    "import subprocess\n",
    "src_video_path = new_video_path\n",
    "for i in range(sample_num):\n",
    "    gen_audio_path = path_list[i]\n",
    "    out_path = os.path.join(save_path, \"output_{}.mp4\".format(i))\n",
    "    # cmd = [\"ffmpeg\" ,\"-i\" ,src_video_path,\"-i\" , gen_audio_path ,\"-c:v\" ,\"copy\" ,\"-c:a\" ,\"aac\" ,\"-strict\" ,\"experimental\", out_path]\n",
    "    cmd = [\"ffmpeg\" ,\"-i\" ,src_video_path,\"-i\" , gen_audio_path ,\"-c:v\" ,\"copy\" ,\"-c:a\" ,\"mp3\" ,\"-strict\" ,\"experimental\", out_path]\n",
    "    subprocess.check_call(cmd)\n",
    "print(\"Gen Success !!\")"
   ]
  },
  {
   "cell_type": "code",
   "execution_count": null,
   "metadata": {},
   "outputs": [],
   "source": []
  }
 ],
 "metadata": {
  "kernelspec": {
   "display_name": "specvqgan",
   "language": "python",
   "name": "python3"
  },
  "language_info": {
   "codemirror_mode": {
    "name": "ipython",
    "version": 3
   },
   "file_extension": ".py",
   "mimetype": "text/x-python",
   "name": "python",
   "nbconvert_exporter": "python",
   "pygments_lexer": "ipython3",
   "version": "3.8.8"
  },
  "orig_nbformat": 4
 },
 "nbformat": 4,
 "nbformat_minor": 2
}
